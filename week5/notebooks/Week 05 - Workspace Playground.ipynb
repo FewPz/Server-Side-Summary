{
 "cells": [
  {
   "cell_type": "code",
   "execution_count": 5,
   "id": "2625dea3",
   "metadata": {},
   "outputs": [],
   "source": [
    "import os\n",
    "os.environ['DJANGO_ALLOW_ASYNC_UNSAFE'] = \"true\""
   ]
  },
  {
   "cell_type": "code",
   "execution_count": 3,
   "id": "3bdcbb3c",
   "metadata": {},
   "outputs": [
    {
     "name": "stdout",
     "output_type": "stream",
     "text": [
      "Test Python naja EiEi\n"
     ]
    }
   ],
   "source": [
    "print(\"Test Python naja EiEi\")"
   ]
  },
  {
   "cell_type": "code",
   "execution_count": 9,
   "id": "608890de",
   "metadata": {},
   "outputs": [],
   "source": [
    "from companies.models import *"
   ]
  },
  {
   "cell_type": "code",
   "execution_count": 11,
   "id": "df47b882",
   "metadata": {},
   "outputs": [
    {
     "data": {
      "text/plain": [
       "<Company: Company CCC>"
      ]
     },
     "execution_count": 11,
     "metadata": {},
     "output_type": "execute_result"
    }
   ],
   "source": [
    "Company.objects.create(name=\"Company AAA\", num_employees=120, num_chairs=150, num_tables=60)\n",
    "Company.objects.create(name=\"Company BBB\", num_employees=50, num_chairs=30, num_tables=20)\n",
    "Company.objects.create(name=\"Company CCC\", num_employees=100, num_chairs=40, num_tables=40)"
   ]
  },
  {
   "cell_type": "code",
   "execution_count": 13,
   "id": "a57feb30",
   "metadata": {},
   "outputs": [],
   "source": [
    "from django.db.models import Count, F, Value\n",
    "from django.db.models.functions import Length, Upper\n",
    "from django.db.models.lookups import GreaterThan"
   ]
  },
  {
   "cell_type": "code",
   "execution_count": 37,
   "id": "5d1a1b35",
   "metadata": {},
   "outputs": [
    {
     "name": "stdout",
     "output_type": "stream",
     "text": [
      "SELECT \"companies_company\".\"id\", \"companies_company\".\"name\", \"companies_company\".\"ticker\", \"companies_company\".\"num_employees\", \"companies_company\".\"num_tables\", \"companies_company\".\"num_chairs\", (\"companies_company\".\"num_employees\" - \"companies_company\".\"num_chairs\") AS \"chairs_needed\" FROM \"companies_company\" WHERE \"companies_company\".\"num_employees\" > (\"companies_company\".\"num_chairs\")\n"
     ]
    }
   ],
   "source": [
    "value = Company.objects.filter(num_employees__gt=F(\"num_chairs\"))\n",
    "value = Company.objects.filter(num_employees__gt=F(\"num_chairs\") * 2)\n",
    "value = Company.objects.filter(num_employees__gt=F(\"num_chairs\") + F(\"num_tables\"))\n",
    "company = (\n",
    "     Company.objects.filter(num_employees__gt=F(\"num_chairs\"))\n",
    "     .annotate(chairs_needed=F(\"num_employees\") - F(\"num_chairs\"))\n",
    ")\n",
    "print(company.query)"
   ]
  },
  {
   "cell_type": "code",
   "execution_count": 42,
   "id": "372487f4",
   "metadata": {
    "scrolled": true
   },
   "outputs": [
    {
     "name": "stdout",
     "output_type": "stream",
     "text": [
      "Upper(Value('goog'))\n"
     ]
    }
   ],
   "source": [
    "company = Company.objects.create(name=\"Google\", ticker=Upper(Value(\"goog\")), num_employees=120, num_chairs=150, num_tables=60)\n",
    "print(company.ticker)"
   ]
  },
  {
   "cell_type": "code",
   "execution_count": 43,
   "id": "51ed809b",
   "metadata": {},
   "outputs": [
    {
     "data": {
      "text/plain": [
       "<QuerySet [<Company: Google>, <Company: Google>, <Company: Google>, <Company: Google>, <Company: Company BBB>, <Company: Company CCC>, <Company: Company AAA>]>"
      ]
     },
     "execution_count": 43,
     "metadata": {},
     "output_type": "execute_result"
    }
   ],
   "source": [
    "Company.objects.order_by(Length(\"name\").asc())"
   ]
  },
  {
   "cell_type": "code",
   "execution_count": 44,
   "id": "29ab3bfb",
   "metadata": {},
   "outputs": [
    {
     "data": {
      "text/plain": [
       "<QuerySet [<Company: Company AAA>, <Company: Company BBB>, <Company: Company CCC>, <Company: Google>, <Company: Google>, <Company: Google>, <Company: Google>]>"
      ]
     },
     "execution_count": 44,
     "metadata": {},
     "output_type": "execute_result"
    }
   ],
   "source": [
    "Company.objects.order_by(Length(\"name\").desc())"
   ]
  },
  {
   "cell_type": "code",
   "execution_count": 45,
   "id": "13fb7c98",
   "metadata": {},
   "outputs": [
    {
     "data": {
      "text/plain": [
       "<QuerySet [<Company: Google>, <Company: Google>, <Company: Google>, <Company: Google>, <Company: Company CCC>, <Company: Company BBB>, <Company: Company AAA>]>"
      ]
     },
     "execution_count": 45,
     "metadata": {},
     "output_type": "execute_result"
    }
   ],
   "source": [
    "Company.objects.order_by(\"-name\", \"num_employees\")"
   ]
  },
  {
   "cell_type": "code",
   "execution_count": 51,
   "id": "153b8201",
   "metadata": {},
   "outputs": [
    {
     "name": "stdout",
     "output_type": "stream",
     "text": [
      "Name: Company AAA | False\n",
      "Name: Company BBB | True\n",
      "Name: Company CCC | True\n",
      "Name: Google | False\n"
     ]
    }
   ],
   "source": [
    "company = Company.objects.annotate(\n",
    "     need_chairs=GreaterThan(F(\"num_employees\"), F(\"num_chairs\")),\n",
    ")\n",
    "for c in company:\n",
    "    print(f\"Name: {c.name} | {c.need_chairs}\")"
   ]
  },
  {
   "cell_type": "code",
   "execution_count": null,
   "id": "498d9fff",
   "metadata": {},
   "outputs": [],
   "source": []
  },
  {
   "cell_type": "code",
   "execution_count": 13,
   "id": "55ead96b",
   "metadata": {},
   "outputs": [
    {
     "data": {
      "text/plain": [
       "20"
      ]
     },
     "execution_count": 13,
     "metadata": {},
     "output_type": "execute_result"
    }
   ],
   "source": [
    "from books.models import *\n",
    "\n",
    "Book.objects.filter(publisher__name=\"Penguin Books\").count()"
   ]
  },
  {
   "cell_type": "code",
   "execution_count": 14,
   "id": "0eab8650",
   "metadata": {},
   "outputs": [
    {
     "data": {
      "text/plain": [
       "{'price__avg': Decimal('9.7018644067796610')}"
      ]
     },
     "execution_count": 14,
     "metadata": {},
     "output_type": "execute_result"
    }
   ],
   "source": [
    "from django.db.models import Avg, Max\n",
    "\n",
    "Book.objects.aggregate(Avg(\"price\", default=0))"
   ]
  },
  {
   "cell_type": "code",
   "execution_count": 15,
   "id": "b2aaf0d3",
   "metadata": {},
   "outputs": [
    {
     "data": {
      "text/plain": [
       "{'price__max': Decimal('14.99')}"
      ]
     },
     "execution_count": 15,
     "metadata": {},
     "output_type": "execute_result"
    }
   ],
   "source": [
    "Book.objects.aggregate(Max(\"price\", default=0))"
   ]
  },
  {
   "cell_type": "code",
   "execution_count": 18,
   "id": "f8a0c7f3",
   "metadata": {},
   "outputs": [
    {
     "name": "stdout",
     "output_type": "stream",
     "text": [
      "{'id': 2, 'name': 'Oxford University Press', 'avg_price': Decimal('9.7464102564102564')}\n",
      "{'id': 1, 'name': 'Penguin Books', 'avg_price': Decimal('9.6150000000000000')}\n"
     ]
    }
   ],
   "source": [
    "publisher = Publisher.objects.annotate(avg_price=Avg(\"book__price\"))\n",
    "for public in publisher.values():\n",
    "    print(public)"
   ]
  },
  {
   "cell_type": "code",
   "execution_count": 22,
   "id": "5d976ca8",
   "metadata": {},
   "outputs": [
    {
     "name": "stdout",
     "output_type": "stream",
     "text": [
      "{'id': 22, 'name': 'Joseph Heller', 'age': 76, 'book_num': 1}\n",
      "{'id': 15, 'name': 'Lewis Carroll', 'age': 65, 'book_num': 0}\n",
      "{'id': 19, 'name': 'Charlotte Brontë', 'age': 38, 'book_num': 0}\n",
      "{'id': 5, 'name': 'J.D. Salinger', 'age': 91, 'book_num': 5}\n",
      "{'id': 4, 'name': 'Jane Austen', 'age': 41, 'book_num': 4}\n",
      "{'id': 10, 'name': 'Charles Dickens', 'age': 58, 'book_num': 4}\n",
      "{'id': 6, 'name': 'Herman Melville', 'age': 72, 'book_num': 2}\n",
      "{'id': 14, 'name': 'J.R.R. Tolkien', 'age': 81, 'book_num': 1}\n",
      "{'id': 13, 'name': 'J.K. Rowling', 'age': 57, 'book_num': 1}\n",
      "{'id': 2, 'name': 'George Orwell', 'age': 46, 'book_num': 4}\n",
      "{'id': 7, 'name': 'Leo Tolstoy', 'age': 82, 'book_num': 4}\n",
      "{'id': 20, 'name': 'Emily Brontë', 'age': 30, 'book_num': 3}\n",
      "{'id': 1, 'name': 'F. Scott Fitzgerald', 'age': 44, 'book_num': 4}\n",
      "{'id': 18, 'name': 'Ray Bradbury', 'age': 91, 'book_num': 1}\n",
      "{'id': 8, 'name': 'Homer', 'age': 50, 'book_num': 3}\n",
      "{'id': 11, 'name': 'Gabriel García Márquez', 'age': 87, 'book_num': 2}\n",
      "{'id': 9, 'name': 'Fyodor Dostoevsky', 'age': 59, 'book_num': 5}\n",
      "{'id': 21, 'name': 'Victor Hugo', 'age': 83, 'book_num': 0}\n",
      "{'id': 3, 'name': 'Harper Lee', 'age': 89, 'book_num': 3}\n",
      "{'id': 17, 'name': 'Douglas Adams', 'age': 49, 'book_num': 1}\n",
      "{'id': 16, 'name': 'Mary Shelley', 'age': 53, 'book_num': 1}\n",
      "{'id': 12, 'name': 'Aldous Huxley', 'age': 69, 'book_num': 1}\n",
      "{'id': 24, 'name': 'Charles Dickens', 'age': 58, 'book_num': 0}\n",
      "{'id': 23, 'name': 'Fyodor Dostoevsky', 'age': 59, 'book_num': 0}\n"
     ]
    }
   ],
   "source": [
    "authors = Author.objects.annotate(book_num=Count(\"book\"))\n",
    "for a in authors.values(): print(a)"
   ]
  },
  {
   "cell_type": "code",
   "execution_count": 27,
   "id": "76c52f0d",
   "metadata": {},
   "outputs": [
    {
     "name": "stdout",
     "output_type": "stream",
     "text": [
      "{'id': 4, 'name': 'Jane Austen', 'age': 41, 'book_num': 1}\n",
      "{'id': 6, 'name': 'Herman Melville', 'age': 72, 'book_num': 1}\n",
      "{'id': 2, 'name': 'George Orwell', 'age': 46, 'book_num': 2}\n",
      "{'id': 7, 'name': 'Leo Tolstoy', 'age': 82, 'book_num': 2}\n",
      "{'id': 20, 'name': 'Emily Brontë', 'age': 30, 'book_num': 1}\n",
      "{'id': 1, 'name': 'F. Scott Fitzgerald', 'age': 44, 'book_num': 1}\n",
      "{'id': 9, 'name': 'Fyodor Dostoevsky', 'age': 59, 'book_num': 1}\n"
     ]
    }
   ],
   "source": [
    "authors = Author.objects.filter(\n",
    "    book__rating__gt=4.5\n",
    ").annotate(\n",
    "    book_num=Count(\"book\")\n",
    ")\n",
    "for i in authors.values(): print(i)"
   ]
  },
  {
   "cell_type": "code",
   "execution_count": 28,
   "id": "b1773d63",
   "metadata": {},
   "outputs": [
    {
     "data": {
      "text/plain": [
       "39"
      ]
     },
     "execution_count": 28,
     "metadata": {},
     "output_type": "execute_result"
    }
   ],
   "source": [
    "pubs = Publisher.objects.annotate(num_books=Count(\"book\")).order_by(\"-num_books\")[:5]\n",
    "pubs[0].num_books"
   ]
  }
 ],
 "metadata": {
  "kernelspec": {
   "display_name": "Django Shell-Plus",
   "language": "python",
   "name": "django_extensions"
  },
  "language_info": {
   "codemirror_mode": {
    "name": "ipython",
    "version": 3
   },
   "file_extension": ".py",
   "mimetype": "text/x-python",
   "name": "python",
   "nbconvert_exporter": "python",
   "pygments_lexer": "ipython3",
   "version": "3.11.9"
  }
 },
 "nbformat": 4,
 "nbformat_minor": 5
}
