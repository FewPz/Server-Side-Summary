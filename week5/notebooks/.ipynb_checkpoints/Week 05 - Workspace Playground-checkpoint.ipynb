{
 "cells": [
  {
   "cell_type": "code",
   "execution_count": 2,
   "id": "2625dea3",
   "metadata": {},
   "outputs": [],
   "source": [
    "import os\n",
    "os.environ['DJANGO_ALLOW_ASYNC_UNSAFE'] = \"true\""
   ]
  },
  {
   "cell_type": "code",
   "execution_count": 3,
   "id": "3bdcbb3c",
   "metadata": {},
   "outputs": [
    {
     "name": "stdout",
     "output_type": "stream",
     "text": [
      "Test Python naja EiEi\n"
     ]
    }
   ],
   "source": [
    "print(\"Test Python naja EiEi\")"
   ]
  },
  {
   "cell_type": "code",
   "execution_count": 9,
   "id": "608890de",
   "metadata": {},
   "outputs": [],
   "source": [
    "from companies.models import *"
   ]
  },
  {
   "cell_type": "code",
   "execution_count": 11,
   "id": "df47b882",
   "metadata": {},
   "outputs": [
    {
     "data": {
      "text/plain": [
       "<Company: Company CCC>"
      ]
     },
     "execution_count": 11,
     "metadata": {},
     "output_type": "execute_result"
    }
   ],
   "source": [
    "Company.objects.create(name=\"Company AAA\", num_employees=120, num_chairs=150, num_tables=60)\n",
    "Company.objects.create(name=\"Company BBB\", num_employees=50, num_chairs=30, num_tables=20)\n",
    "Company.objects.create(name=\"Company CCC\", num_employees=100, num_chairs=40, num_tables=40)"
   ]
  },
  {
   "cell_type": "code",
   "execution_count": 13,
   "id": "a57feb30",
   "metadata": {},
   "outputs": [],
   "source": [
    "from django.db.models import Count, F, Value\n",
    "from django.db.models.functions import Length, Upper\n",
    "from django.db.models.lookups import GreaterThan"
   ]
  },
  {
   "cell_type": "code",
   "execution_count": 37,
   "id": "5d1a1b35",
   "metadata": {},
   "outputs": [
    {
     "name": "stdout",
     "output_type": "stream",
     "text": [
      "SELECT \"companies_company\".\"id\", \"companies_company\".\"name\", \"companies_company\".\"ticker\", \"companies_company\".\"num_employees\", \"companies_company\".\"num_tables\", \"companies_company\".\"num_chairs\", (\"companies_company\".\"num_employees\" - \"companies_company\".\"num_chairs\") AS \"chairs_needed\" FROM \"companies_company\" WHERE \"companies_company\".\"num_employees\" > (\"companies_company\".\"num_chairs\")\n"
     ]
    }
   ],
   "source": [
    "value = Company.objects.filter(num_employees__gt=F(\"num_chairs\"))\n",
    "value = Company.objects.filter(num_employees__gt=F(\"num_chairs\") * 2)\n",
    "value = Company.objects.filter(num_employees__gt=F(\"num_chairs\") + F(\"num_tables\"))\n",
    "company = (\n",
    "     Company.objects.filter(num_employees__gt=F(\"num_chairs\"))\n",
    "     .annotate(chairs_needed=F(\"num_employees\") - F(\"num_chairs\"))\n",
    ")\n",
    "print(company.query)"
   ]
  },
  {
   "cell_type": "code",
   "execution_count": 42,
   "id": "372487f4",
   "metadata": {},
   "outputs": [
    {
     "name": "stdout",
     "output_type": "stream",
     "text": [
      "Upper(Value('goog'))\n"
     ]
    }
   ],
   "source": [
    "company = Company.objects.create(name=\"Google\", ticker=Upper(Value(\"goog\")), num_employees=120, num_chairs=150, num_tables=60)\n",
    "print(company.ticker)"
   ]
  }
 ],
 "metadata": {
  "kernelspec": {
   "display_name": "Django Shell-Plus",
   "language": "python",
   "name": "django_extensions"
  },
  "language_info": {
   "codemirror_mode": {
    "name": "ipython",
    "version": 3
   },
   "file_extension": ".py",
   "mimetype": "text/x-python",
   "name": "python",
   "nbconvert_exporter": "python",
   "pygments_lexer": "ipython3",
   "version": "3.11.9"
  }
 },
 "nbformat": 4,
 "nbformat_minor": 5
}
